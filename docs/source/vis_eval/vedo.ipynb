{
 "cells": [
  {
   "cell_type": "code",
   "execution_count": 14,
   "metadata": {},
   "outputs": [
    {
     "name": "stdout",
     "output_type": "stream",
     "text": [
      "\u001b[0m\u001b[1m\u001b[31;1m \u001b[2m────────────────────── 4% ETA: 10s (4.7 it/s) \u001b[1m\u001b[31;1m \u001b[2m────────────────────── 6%                   ETA: 10s (4.6 it/s) \u001b[1m\u001b[31;1m ━\u001b[2m───────────────────── 8%                   ETA: 10s (4.6 it/s) \u001b[1m\u001b[31;1m ━\u001b[2m───────────────────── 10%                   ETA: 10s (4.6 it/s) \u001b[1m\u001b[31;1m ━━\u001b[2m──────────────────── 12%                   ETA: 10s (4.6 it/s) \u001b[1m\u001b[31;1m ━━\u001b[2m──────────────────── 14%                   ETA: 9s (4.6 it/s) \u001b[1m\u001b[31;1m ━━━\u001b[2m─────────────────── 16%                   ETA: 9s (4.6 it/s) \u001b[1m\u001b[31;1m ━━━\u001b[2m─────────────────── 18%                   ETA: 9s (4.6 it/s) \u001b[1m\u001b[31;1m ━━━━\u001b[2m────────────────── 20%                   ETA: 9s (4.6 it/s) \u001b[1m\u001b[31;1m ━━━━\u001b[2m────────────────── 22%                   ETA: 9s (4.5 it/s) \u001b[1m\u001b[31;1m ━━━━━\u001b[2m───────────────── 24%                   ETA: 8s (4.5 it/s) \u001b[1m\u001b[31;1m ━━━━━\u001b[2m───────────────── 26%                   ETA: 8s (4.5 it/s) \u001b[1m\u001b[31;1m ━━━━━\u001b[2m───────────────── 28%                   ETA: 8s (4.5 it/s) \u001b[1m\u001b[31;1m ━━━━━━\u001b[2m──────────────── 30%                   ETA: 8s (4.5 it/s) \u001b[1m\u001b[31;1m ━━━━━━\u001b[2m──────────────── 32%                   ETA: 8s (4.5 it/s) \u001b[1m\u001b[31;1m ━━━━━━━\u001b[2m─────────────── 34%                   ETA: 7s (4.5 it/s) \u001b[1m\u001b[31;1m ━━━━━━━\u001b[2m─────────────── 36%                   ETA: 7s (4.5 it/s) \u001b[1m\u001b[31;1m ━━━━━━━━\u001b[2m────────────── 38%                   ETA: 7s (4.5 it/s) \u001b[1m\u001b[31;1m ━━━━━━━━\u001b[2m────────────── 40%                   ETA: 7s (4.5 it/s) \u001b[1m\u001b[31;1m ━━━━━━━━━\u001b[2m───────────── 42%                   ETA: 6s (4.5 it/s) \u001b[1m\u001b[31;1m ━━━━━━━━━\u001b[2m───────────── 44%                   ETA: 6s (4.5 it/s) \u001b[1m\u001b[31;1m ━━━━━━━━━━\u001b[2m──────────── 46%                   ETA: 6s (4.6 it/s) \u001b[1m\u001b[31;1m ━━━━━━━━━━\u001b[2m──────────── 48%                   ETA: 6s (4.5 it/s) \u001b[1m\u001b[31;1m ━━━━━━━━━━━\u001b[2m─────────── 50%                   ETA: 5s (4.5 it/s) \u001b[1m\u001b[31;1m ━━━━━━━━━━━\u001b[2m─────────── 52%                   ETA: 5s (4.6 it/s) \u001b[1m\u001b[31;1m ━━━━━━━━━━━\u001b[2m─────────── 54%                   ETA: 5s (4.6 it/s) \u001b[1m\u001b[31;1m ━━━━━━━━━━━━\u001b[2m────────── 56%                   ETA: 5s (4.6 it/s) \u001b[1m\u001b[31;1m ━━━━━━━━━━━━\u001b[2m────────── 58%                   ETA: 5s (4.6 it/s) \u001b[1m\u001b[31;1m ━━━━━━━━━━━━━\u001b[2m───────── 60%                   ETA: 4s (4.6 it/s) \u001b[1m\u001b[31;1m ━━━━━━━━━━━━━\u001b[2m───────── 62%                   ETA: 4s (4.6 it/s) \u001b[1m\u001b[31;1m ━━━━━━━━━━━━━━\u001b[2m──────── 64%                   ETA: 4s (4.6 it/s) \u001b[1m\u001b[31;1m ━━━━━━━━━━━━━━\u001b[2m──────── 66%                   ETA: 4s (4.6 it/s) \u001b[1m\u001b[31;1m ━━━━━━━━━━━━━━━\u001b[2m─────── 68%                   ETA: 4s (4.6 it/s) \u001b[1m\u001b[31;1m ━━━━━━━━━━━━━━━\u001b[2m─────── 70%                   ETA: 3s (4.6 it/s) \u001b[1m\u001b[31;1m ━━━━━━━━━━━━━━━━\u001b[2m────── 72%                   ETA: 3s (4.6 it/s) \u001b[1m\u001b[31;1m ━━━━━━━━━━━━━━━━\u001b[2m────── 74%                   ETA: 3s (4.6 it/s) \u001b[1m\u001b[31;1m ━━━━━━━━━━━━━━━━\u001b[2m────── 76%                   ETA: 3s (4.6 it/s) \u001b[1m\u001b[31;1m ━━━━━━━━━━━━━━━━━\u001b[2m───── 78%                   ETA: 2s (4.6 it/s) \u001b[1m\u001b[31;1m ━━━━━━━━━━━━━━━━━\u001b[2m───── 80%                   ETA: 2s (4.6 it/s) \u001b[1m\u001b[31;1m ━━━━━━━━━━━━━━━━━━\u001b[2m──── 82%                   ETA: 2s (4.6 it/s) \u001b[1m\u001b[31;1m ━━━━━━━━━━━━━━━━━━\u001b[2m──── 84%                   ETA: 2s (4.6 it/s) \u001b[1m\u001b[31;1m ━━━━━━━━━━━━━━━━━━━\u001b[2m─── 86%                   ETA: 2s (4.6 it/s) \u001b[1m\u001b[31;1m ━━━━━━━━━━━━━━━━━━━\u001b[2m─── 88%                   ETA: 1s (4.6 it/s) \u001b[1m\u001b[31;1m ━━━━━━━━━━━━━━━━━━━━\u001b[2m── 90%                   ETA: 1s (4.5 it/s) \u001b[1m\u001b[31;1m ━━━━━━━━━━━━━━━━━━━━\u001b[2m── 92%                   elapsed: 10s (4.5 it/s)        \u001b[1m\u001b[31;1m ━━━━━━━━━━━━━━━━━━━━━\u001b[2m─ 94%                               elapsed: 10s (4.6 it/s)        \u001b[1m\u001b[31;1m ━━━━━━━━━━━━━━━━━━━━━\u001b[2m─ 96%                               elapsed: 11s (4.6 it/s)        \u001b[1m\u001b[31;1m ━━━━━━━━━━━━━━━━━━━━━━\u001b[2m 98%                               elapsed: 11s (4.6 it/s)        \u001b[1m\u001b[31;1m ━━━━━━━━━━━━━━━━━━━━━━\u001b[2m                               elapsed: 11s (4.6 it/s)        \n"
     ]
    }
   ],
   "source": [
    "\n",
    "# Make a Volume from a numpy object\n",
    "#\n",
    "import numpy as np\n",
    "from scipy.fftpack import fftn, fftshift\n",
    "from vedo import *\n",
    "embedWindow('itkwidgets') # backends are: itkwidgets, k3d or False\n",
    "\n",
    "\n",
    "def f(x, y, z, t):\n",
    "    r = np.sqrt(x*x + y*y + z*z + 2*t*t) + 0.1\n",
    "    return np.sin(9*np.pi * r)/r\n",
    "\n",
    "n = 64\n",
    "qn = 50\n",
    "vol = np.zeros((n, n, n))\n",
    "n1 = int(n/2)\n",
    "\n",
    "pb = ProgressBar(0, qn, c=\"r\")\n",
    "for q in pb.range():\n",
    "    pb.print()\n",
    "\n",
    "    t = 2 * q / qn - 1\n",
    "    for k in range(n1):\n",
    "        z = 2 * k / n1 - 1\n",
    "        for j in range(n1):\n",
    "            y = 2 * j / n1 - 1\n",
    "            for i in range(n1):\n",
    "                x = 2 * i / n1 - 1\n",
    "                vol[i, j, k] = f(x, y, z, t)\n",
    "    volf = fftn(vol)\n",
    "    volf = fftshift(abs(volf))\n",
    "    volf = np.log(12*volf/volf.max()+ 1) / 2.5\n",
    "\n",
    "    vb = Volume(volf).mode(1).c(\"rainbow\").alpha([0, 0.8, 1])\n",
    "    plt = show(vb, bg=\"black\", axes=1, viewup='z', interactive=False)"
   ]
  },
  {
   "cell_type": "code",
   "execution_count": 15,
   "metadata": {},
   "outputs": [
    {
     "data": {
      "application/vnd.jupyter.widget-view+json": {
       "model_id": "fa8a3fd8ee484542b72738640b5a2a7e",
       "version_major": 2,
       "version_minor": 0
      },
      "text/plain": [
       "Viewer(cmap=['jet'], geometries=[{'vtkClass': 'vtkPolyData', 'points': {'vtkClass': 'vtkPoints', 'name': '_poi…"
      ]
     },
     "metadata": {},
     "output_type": "display_data"
    }
   ],
   "source": [
    "plt"
   ]
  }
 ],
 "metadata": {
  "kernelspec": {
   "display_name": "Python 3",
   "language": "python",
   "name": "python3"
  },
  "language_info": {
   "codemirror_mode": {
    "name": "ipython",
    "version": 3
   },
   "file_extension": ".py",
   "mimetype": "text/x-python",
   "name": "python",
   "nbconvert_exporter": "python",
   "pygments_lexer": "ipython3",
   "version": "3.9.5"
  }
 },
 "nbformat": 4,
 "nbformat_minor": 2
}
